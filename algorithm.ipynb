{
 "cells": [
  {
   "cell_type": "code",
   "execution_count": 23,
   "metadata": {},
   "outputs": [],
   "source": [
    "import pandas as pd\n",
    "import numpy as np"
   ]
  },
  {
   "cell_type": "code",
   "execution_count": 24,
   "metadata": {},
   "outputs": [
    {
     "data": {
      "text/html": [
       "<div>\n",
       "<style scoped>\n",
       "    .dataframe tbody tr th:only-of-type {\n",
       "        vertical-align: middle;\n",
       "    }\n",
       "\n",
       "    .dataframe tbody tr th {\n",
       "        vertical-align: top;\n",
       "    }\n",
       "\n",
       "    .dataframe thead th {\n",
       "        text-align: right;\n",
       "    }\n",
       "</style>\n",
       "<table border=\"1\" class=\"dataframe\">\n",
       "  <thead>\n",
       "    <tr style=\"text-align: right;\">\n",
       "      <th></th>\n",
       "      <th>Unnamed: 0</th>\n",
       "      <th>video_id</th>\n",
       "      <th>title</th>\n",
       "      <th>channel_title</th>\n",
       "      <th>category</th>\n",
       "      <th>publish_time</th>\n",
       "      <th>tags</th>\n",
       "      <th>views</th>\n",
       "      <th>likes</th>\n",
       "      <th>dislikes</th>\n",
       "      <th>description</th>\n",
       "      <th>duration</th>\n",
       "    </tr>\n",
       "  </thead>\n",
       "  <tbody>\n",
       "    <tr>\n",
       "      <th>0</th>\n",
       "      <td>0</td>\n",
       "      <td>kzwfHumJyYc</td>\n",
       "      <td>Sharry Mann: Cute Munda ( Song Teaser) | Parmi...</td>\n",
       "      <td>Lokdhun Punjabi</td>\n",
       "      <td>Film &amp; Animation</td>\n",
       "      <td>Afternoon</td>\n",
       "      <td>sharry mann|\"sharry mann new song\"|\"sharry man...</td>\n",
       "      <td>1096327</td>\n",
       "      <td>33966</td>\n",
       "      <td>798</td>\n",
       "      <td>Presenting Sharry Mann latest Punjabi Song  Cu...</td>\n",
       "      <td>27</td>\n",
       "    </tr>\n",
       "    <tr>\n",
       "      <th>1</th>\n",
       "      <td>1</td>\n",
       "      <td>zUZ1z7FwLc8</td>\n",
       "      <td>पीरियड्स के समय, पेट पर पति करता ऐसा, देखकर दं...</td>\n",
       "      <td>HJ NEWS</td>\n",
       "      <td>News &amp; Politics</td>\n",
       "      <td>Morning</td>\n",
       "      <td>पीरियड्स के समय|\"पेट पर पति करता ऐसा\"|\"देखकर द...</td>\n",
       "      <td>590101</td>\n",
       "      <td>735</td>\n",
       "      <td>904</td>\n",
       "      <td>पीरियड्स के समय, पेट पर पति करता ऐसा, देखकर दं...</td>\n",
       "      <td>120</td>\n",
       "    </tr>\n",
       "    <tr>\n",
       "      <th>2</th>\n",
       "      <td>2</td>\n",
       "      <td>10L1hZ9qa58</td>\n",
       "      <td>Stylish Star Allu Arjun @ ChaySam Wedding Rece...</td>\n",
       "      <td>TFPC</td>\n",
       "      <td>Entertainment</td>\n",
       "      <td>Afternoon</td>\n",
       "      <td>Stylish Star Allu Arjun @ ChaySam Wedding Rece...</td>\n",
       "      <td>473988</td>\n",
       "      <td>2011</td>\n",
       "      <td>243</td>\n",
       "      <td>Watch Stylish Star Allu Arjun @ ChaySam Weddin...</td>\n",
       "      <td>129</td>\n",
       "    </tr>\n",
       "    <tr>\n",
       "      <th>3</th>\n",
       "      <td>3</td>\n",
       "      <td>N1vE8iiEg64</td>\n",
       "      <td>Eruma Saani | Tamil vs English</td>\n",
       "      <td>Eruma Saani</td>\n",
       "      <td>Comedy</td>\n",
       "      <td>Morning</td>\n",
       "      <td>Eruma Saani|\"Tamil Comedy Videos\"|\"Films\"|\"Mov...</td>\n",
       "      <td>1242680</td>\n",
       "      <td>70353</td>\n",
       "      <td>1624</td>\n",
       "      <td>This video showcases the difference between pe...</td>\n",
       "      <td>276</td>\n",
       "    </tr>\n",
       "    <tr>\n",
       "      <th>4</th>\n",
       "      <td>4</td>\n",
       "      <td>kJzGH0PVQHQ</td>\n",
       "      <td>why Samantha became EMOTIONAL @ Samantha naga ...</td>\n",
       "      <td>Filmylooks</td>\n",
       "      <td>Entertainment</td>\n",
       "      <td>Night</td>\n",
       "      <td>Filmylooks|\"latest news\"|\"telugu movies\"|\"telu...</td>\n",
       "      <td>464015</td>\n",
       "      <td>492</td>\n",
       "      <td>293</td>\n",
       "      <td>why Samantha became EMOTIONAL @ Samantha naga ...</td>\n",
       "      <td>66</td>\n",
       "    </tr>\n",
       "  </tbody>\n",
       "</table>\n",
       "</div>"
      ],
      "text/plain": [
       "   Unnamed: 0     video_id                                              title  \\\n",
       "0           0  kzwfHumJyYc  Sharry Mann: Cute Munda ( Song Teaser) | Parmi...   \n",
       "1           1  zUZ1z7FwLc8  पीरियड्स के समय, पेट पर पति करता ऐसा, देखकर दं...   \n",
       "2           2  10L1hZ9qa58  Stylish Star Allu Arjun @ ChaySam Wedding Rece...   \n",
       "3           3  N1vE8iiEg64                     Eruma Saani | Tamil vs English   \n",
       "4           4  kJzGH0PVQHQ  why Samantha became EMOTIONAL @ Samantha naga ...   \n",
       "\n",
       "     channel_title          category publish_time  \\\n",
       "0  Lokdhun Punjabi  Film & Animation    Afternoon   \n",
       "1          HJ NEWS   News & Politics      Morning   \n",
       "2             TFPC     Entertainment    Afternoon   \n",
       "3      Eruma Saani            Comedy      Morning   \n",
       "4       Filmylooks     Entertainment        Night   \n",
       "\n",
       "                                                tags    views  likes  \\\n",
       "0  sharry mann|\"sharry mann new song\"|\"sharry man...  1096327  33966   \n",
       "1  पीरियड्स के समय|\"पेट पर पति करता ऐसा\"|\"देखकर द...   590101    735   \n",
       "2  Stylish Star Allu Arjun @ ChaySam Wedding Rece...   473988   2011   \n",
       "3  Eruma Saani|\"Tamil Comedy Videos\"|\"Films\"|\"Mov...  1242680  70353   \n",
       "4  Filmylooks|\"latest news\"|\"telugu movies\"|\"telu...   464015    492   \n",
       "\n",
       "   dislikes                                        description  duration  \n",
       "0       798  Presenting Sharry Mann latest Punjabi Song  Cu...        27  \n",
       "1       904  पीरियड्स के समय, पेट पर पति करता ऐसा, देखकर दं...       120  \n",
       "2       243  Watch Stylish Star Allu Arjun @ ChaySam Weddin...       129  \n",
       "3      1624  This video showcases the difference between pe...       276  \n",
       "4       293  why Samantha became EMOTIONAL @ Samantha naga ...        66  "
      ]
     },
     "execution_count": 24,
     "metadata": {},
     "output_type": "execute_result"
    }
   ],
   "source": [
    "df = pd.read_csv(\"cleaned_data.csv\")\n",
    "df.head()"
   ]
  },
  {
   "cell_type": "code",
   "execution_count": 25,
   "metadata": {},
   "outputs": [
    {
     "data": {
      "text/plain": [
       "{'Comedy': {'Afternoon': 850, 'Evening': 245, 'Morning': 809, 'Night': 59},\n",
       " 'Education': {'Afternoon': 130, 'Evening': 36, 'Morning': 179, 'Night': 291},\n",
       " 'Entertainment': {'Afternoon': 2912,\n",
       "  'Evening': 1456,\n",
       "  'Morning': 3533,\n",
       "  'Night': 1145},\n",
       " 'Film & Animation': {'Afternoon': 428,\n",
       "  'Evening': 169,\n",
       "  'Morning': 372,\n",
       "  'Night': 34},\n",
       " 'Gaming': {'Afternoon': 22, 'Evening': 5, 'Morning': 17, 'Night': 0},\n",
       " 'Music': {'Afternoon': 785, 'Evening': 67, 'Morning': 1040, 'Night': 275},\n",
       " 'News & Politics': {'Afternoon': 1030,\n",
       "  'Evening': 579,\n",
       "  'Morning': 1137,\n",
       "  'Night': 169},\n",
       " 'People & Blogs': {'Afternoon': 447,\n",
       "  'Evening': 313,\n",
       "  'Morning': 489,\n",
       "  'Night': 89},\n",
       " 'Sports': {'Afternoon': 105, 'Evening': 130, 'Morning': 41, 'Night': 143},\n",
       " 'Travel & Events': {'Afternoon': 3, 'Evening': 3, 'Morning': 0, 'Night': 0}}"
      ]
     },
     "execution_count": 25,
     "metadata": {},
     "output_type": "execute_result"
    }
   ],
   "source": [
    "categories = np.array(df[\"category\"])\n",
    "publish_time = np.array(df[\"publish_time\"])\n",
    "freq = {i:{j:0 for j in np.unique(publish_time)} for i in np.unique(categories)}\n",
    "for i in range(len(categories)):\n",
    "    freq[categories[i]][publish_time[i]]+=1\n",
    "freq\n",
    "\n"
   ]
  },
  {
   "cell_type": "code",
   "execution_count": 26,
   "metadata": {},
   "outputs": [
    {
     "data": {
      "text/plain": [
       "{'Comedy': 'Afternoon',\n",
       " 'Education': 'Night',\n",
       " 'Entertainment': 'Morning',\n",
       " 'Film & Animation': 'Afternoon',\n",
       " 'Gaming': 'Afternoon',\n",
       " 'Music': 'Morning',\n",
       " 'News & Politics': 'Morning',\n",
       " 'People & Blogs': 'Morning',\n",
       " 'Sports': 'Night',\n",
       " 'Travel & Events': 'Afternoon'}"
      ]
     },
     "execution_count": 26,
     "metadata": {},
     "output_type": "execute_result"
    }
   ],
   "source": [
    "best_times = {}\n",
    "for i in freq.keys():\n",
    "    max_val = 0\n",
    "    max_key = ''\n",
    "    for key,val in freq[i].items():\n",
    "        if val>max_val:\n",
    "            max_val = val\n",
    "            max_key = key\n",
    "    best_times[i] = max_key\n",
    "best_times\n",
    "\n"
   ]
  },
  {
   "cell_type": "code",
   "execution_count": 27,
   "metadata": {},
   "outputs": [
    {
     "data": {
      "text/plain": [
       "[27, 120, 129, 276, 66]"
      ]
     },
     "execution_count": 27,
     "metadata": {},
     "output_type": "execute_result"
    }
   ],
   "source": [
    "duration  = list(df[\"duration\"])\n",
    "duration[0:5]"
   ]
  },
  {
   "cell_type": "code",
   "execution_count": 28,
   "metadata": {},
   "outputs": [
    {
     "data": {
      "text/plain": [
       "['Shorts', 'Medium', 'Medium', 'Medium', 'Shorts']"
      ]
     },
     "execution_count": 28,
     "metadata": {},
     "output_type": "execute_result"
    }
   ],
   "source": [
    "for i in range(len(duration)):\n",
    "    if duration[i] < 120:\n",
    "        duration[i] = \"Shorts\"\n",
    "    elif 120<= duration[i] <= 420:\n",
    "        duration[i] = \"Medium\"\n",
    "    else:\n",
    "        duration[i] = \"Long\"\n",
    "duration[0:5]"
   ]
  },
  {
   "cell_type": "code",
   "execution_count": 29,
   "metadata": {},
   "outputs": [
    {
     "data": {
      "text/plain": [
       "{'Comedy': {'Long': 790, 'Medium': 883, 'Shorts': 290},\n",
       " 'Education': {'Long': 293, 'Medium': 222, 'Shorts': 121},\n",
       " 'Entertainment': {'Long': 3658, 'Medium': 3799, 'Shorts': 1589},\n",
       " 'Film & Animation': {'Long': 403, 'Medium': 401, 'Shorts': 199},\n",
       " 'Gaming': {'Long': 14, 'Medium': 22, 'Shorts': 8},\n",
       " 'Music': {'Long': 889, 'Medium': 909, 'Shorts': 369},\n",
       " 'News & Politics': {'Long': 1211, 'Medium': 1207, 'Shorts': 497},\n",
       " 'People & Blogs': {'Long': 554, 'Medium': 557, 'Shorts': 227},\n",
       " 'Sports': {'Long': 160, 'Medium': 189, 'Shorts': 70},\n",
       " 'Travel & Events': {'Long': 1, 'Medium': 2, 'Shorts': 3}}"
      ]
     },
     "execution_count": 29,
     "metadata": {},
     "output_type": "execute_result"
    }
   ],
   "source": [
    "freq = {i:{j:0 for j in np.unique(duration)} for i in np.unique(categories)}\n",
    "for i in range(len(categories)):\n",
    "    freq[categories[i]][duration[i]]+=1\n",
    "freq"
   ]
  },
  {
   "cell_type": "code",
   "execution_count": 30,
   "metadata": {},
   "outputs": [
    {
     "data": {
      "text/plain": [
       "{'Comedy': 'Medium',\n",
       " 'Education': 'Long',\n",
       " 'Entertainment': 'Medium',\n",
       " 'Film & Animation': 'Long',\n",
       " 'Gaming': 'Medium',\n",
       " 'Music': 'Medium',\n",
       " 'News & Politics': 'Long',\n",
       " 'People & Blogs': 'Medium',\n",
       " 'Sports': 'Medium',\n",
       " 'Travel & Events': 'Shorts'}"
      ]
     },
     "execution_count": 30,
     "metadata": {},
     "output_type": "execute_result"
    }
   ],
   "source": [
    "best_duration={}\n",
    "for i in freq.keys():\n",
    "    max_val = 0\n",
    "    max_key = ''\n",
    "    for key,val in freq[i].items():\n",
    "        if val>max_val:\n",
    "            max_val = val\n",
    "            max_key = key\n",
    "    best_duration[i] = max_key\n",
    "best_duration"
   ]
  }
 ],
 "metadata": {
  "kernelspec": {
   "display_name": "Python 3",
   "language": "python",
   "name": "python3"
  },
  "language_info": {
   "codemirror_mode": {
    "name": "ipython",
    "version": 3
   },
   "file_extension": ".py",
   "mimetype": "text/x-python",
   "name": "python",
   "nbconvert_exporter": "python",
   "pygments_lexer": "ipython3",
   "version": "3.11.2"
  },
  "orig_nbformat": 4,
  "vscode": {
   "interpreter": {
    "hash": "79339ed4f4c99a99a95b13e740f7a98d06498bbbc7b38ccbf638228d9c716f4a"
   }
  }
 },
 "nbformat": 4,
 "nbformat_minor": 2
}
